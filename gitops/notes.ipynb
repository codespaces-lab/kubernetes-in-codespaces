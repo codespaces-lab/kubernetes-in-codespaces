{
 "cells": [
  {
   "cell_type": "code",
   "execution_count": 1,
   "metadata": {},
   "outputs": [
    {
     "name": "stdout",
     "output_type": "stream",
     "text": [
      "1864\n",
      "1137\n",
      "1978\n",
      "1243\n",
      "1241\n",
      "1637\n",
      "1812\n",
      "1331\n",
      "1232\n",
      "1474\n",
      "149\n",
      "117\n",
      "107\n",
      "130\n",
      "130\n",
      "179\n",
      "173\n",
      "141\n",
      "129\n",
      "159\n"
     ]
    }
   ],
   "source": [
    "import random\n",
    "\n",
    "\n",
    "\n",
    "for i in range(10):\n",
    "    \n",
    "    random.seed(i)\n",
    "    print( random.randint(1000, 2000))\n",
    "    \n",
    "\n",
    "for i in range(10):\n",
    "    \n",
    "    random.seed(i)\n",
    "    print( random.randint(100, 200))\n",
    "    \n",
    "\n"
   ]
  },
  {
   "cell_type": "code",
   "execution_count": null,
   "metadata": {},
   "outputs": [],
   "source": []
  }
 ],
 "metadata": {
  "kernelspec": {
   "display_name": "Python 3",
   "language": "python",
   "name": "python3"
  },
  "language_info": {
   "codemirror_mode": {
    "name": "ipython",
    "version": 3
   },
   "file_extension": ".py",
   "mimetype": "text/x-python",
   "name": "python",
   "nbconvert_exporter": "python",
   "pygments_lexer": "ipython3",
   "version": "3.9.2"
  },
  "orig_nbformat": 4
 },
 "nbformat": 4,
 "nbformat_minor": 2
}
